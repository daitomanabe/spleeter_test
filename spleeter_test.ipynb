{
  "nbformat": 4,
  "nbformat_minor": 0,
  "metadata": {
    "colab": {
      "name": "spleeter_test.ipynb",
      "provenance": [],
      "include_colab_link": true
    },
    "kernelspec": {
      "name": "python3",
      "display_name": "Python 3"
    }
  },
  "cells": [
    {
      "cell_type": "markdown",
      "metadata": {
        "id": "view-in-github",
        "colab_type": "text"
      },
      "source": [
        "<a href=\"https://colab.research.google.com/github/daitomanabe/spleeter_test/blob/master/spleeter_test.ipynb\" target=\"_parent\"><img src=\"https://colab.research.google.com/assets/colab-badge.svg\" alt=\"Open In Colab\"/></a>"
      ]
    },
    {
      "cell_type": "code",
      "metadata": {
        "id": "IAHCp4P7r5mH",
        "colab_type": "code",
        "colab": {}
      },
      "source": [
        "!pip install spleeter"
      ],
      "execution_count": 0,
      "outputs": []
    },
    {
      "cell_type": "code",
      "metadata": {
        "id": "t-kgRnFBr7b7",
        "colab_type": "code",
        "colab": {}
      },
      "source": [
        "!spleeter separate -h\n"
      ],
      "execution_count": 0,
      "outputs": []
    },
    {
      "cell_type": "markdown",
      "metadata": {
        "id": "p2q--veijnJH",
        "colab_type": "text"
      },
      "source": [
        "test.mp3という名前でtest fileをupload"
      ]
    },
    {
      "cell_type": "code",
      "metadata": {
        "id": "NpYvkVPZuk-w",
        "colab_type": "code",
        "colab": {}
      },
      "source": [
        "from google.colab import files\n",
        "uploaded = files.upload()"
      ],
      "execution_count": 0,
      "outputs": []
    },
    {
      "cell_type": "code",
      "metadata": {
        "id": "Bt-4MoVovGK3",
        "colab_type": "code",
        "colab": {}
      },
      "source": [
        "!spleeter separate -i test.mp3 -o audio_output_4stems -p spleeter:4stems"
      ],
      "execution_count": 0,
      "outputs": []
    },
    {
      "cell_type": "code",
      "metadata": {
        "id": "DiXorPsqUvWU",
        "colab_type": "code",
        "colab": {}
      },
      "source": [
        "files.download('audio_output_4stems/test/vocals.wav')"
      ],
      "execution_count": 0,
      "outputs": []
    },
    {
      "cell_type": "code",
      "metadata": {
        "id": "rInNG-rkU1wi",
        "colab_type": "code",
        "colab": {}
      },
      "source": [
        ""
      ],
      "execution_count": 0,
      "outputs": []
    }
  ]
}